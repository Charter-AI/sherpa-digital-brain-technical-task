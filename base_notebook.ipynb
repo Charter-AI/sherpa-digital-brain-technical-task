{
 "cells": [
  {
   "cell_type": "markdown",
   "metadata": {},
   "source": [
    "# Sherpa Digital Brain Technical Task\n",
    "\n",
    "## Setup Instructions\n",
    "\n",
    "*Git instructions*\n",
    "\n",
    "## Task\n",
    "\n",
    "*Task instructions*\n"
   ]
  },
  {
   "cell_type": "code",
   "execution_count": null,
   "metadata": {},
   "outputs": [],
   "source": [
    "# Install dependencies"
   ]
  }
 ],
 "metadata": {
  "language_info": {
   "name": "python"
  }
 },
 "nbformat": 4,
 "nbformat_minor": 2
}
